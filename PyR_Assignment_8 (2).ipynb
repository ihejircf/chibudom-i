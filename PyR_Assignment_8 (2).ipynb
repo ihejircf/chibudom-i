{
  "cells": [
    {
      "cell_type": "markdown",
      "metadata": {
        "id": "FkxnUkyhwdeU"
      },
      "source": [
        "# Problem 1 [2 points]\n",
        "\n",
        "Assume a sequence of numbers in which:\n",
        "\n",
        ">$n_{th} number= \\frac{(n-3)_{th} number + (n-2)_{th} number}{(n-1)_{th} number}$\n",
        "\n",
        "For example, the forth number in the series below is the $\\frac{1_{st} number +2_{nd} number}{3_{rd}number}=\\frac{1+2}{3}=1$ \n",
        "\n",
        "\n",
        "> `[1, 2, 3, 1.0, 5.0, 0.8, 7.5, ...]`\n",
        "\n",
        "Using recursion, write a function named `crazy_sequence(n)` which generates the $n_{th}$ element of this sequence. The first 3 elements are 1,2,3 as shown in the sequence above.\n"
      ]
    },
    {
      "cell_type": "code",
      "execution_count": 40,
      "metadata": {
        "colab": {
          "base_uri": "https://localhost:8080/"
        },
        "outputId": "c5532e0b-dd5b-4f84-8793-d3b075006db6",
        "id": "J2XJwHrxwdeV"
      },
      "outputs": [
        {
          "output_type": "execute_result",
          "data": {
            "text/plain": [
              "7.5"
            ]
          },
          "metadata": {},
          "execution_count": 40
        }
      ],
      "source": [
        "# Begin of your solution\n",
        "def crazy_sequence(n):\n",
        "  if n==1:\n",
        "    return 1\n",
        "  elif n==2:\n",
        "    return 2\n",
        "  elif n==3:\n",
        "    return 3\n",
        "  else:\n",
        "    return(crazy_sequence(n-3)+crazy_sequence(n-2))/crazy_sequence(n-1)\n",
        "\n",
        "# End solution\n",
        "crazy_sequence(7)\n"
      ]
    },
    {
      "cell_type": "markdown",
      "metadata": {
        "id": "ZEv-nEWYHzy3"
      },
      "source": [
        "# Problem 2 [1 point]\n",
        "\n",
        "Using list comprehension, create list named `lst1` which looks like `[1, 2, 3, 4, 5, 6, 7, 8, 9, 10, 11]`\n",
        "\n",
        "Your code should have only one line!"
      ]
    },
    {
      "cell_type": "code",
      "execution_count": 14,
      "metadata": {
        "id": "LwMZ6yDJHzy3",
        "colab": {
          "base_uri": "https://localhost:8080/"
        },
        "outputId": "930fff79-aa6e-4e96-bb29-08f3556b7ea3"
      },
      "outputs": [
        {
          "output_type": "stream",
          "name": "stdout",
          "text": [
            "[1, 2, 3, 4, 5, 6, 7, 8, 9, 10, 11]\n"
          ]
        }
      ],
      "source": [
        "# Begin of your solution\n",
        "lst1=[i for i in range(1,12)]\n",
        "# End solution\n",
        "print (lst1)"
      ]
    },
    {
      "cell_type": "markdown",
      "metadata": {
        "id": "EHfFLyBirWoc"
      },
      "source": [
        "# Problem 3 [1 point]\n",
        "\n",
        "Using list comprehension, create list named `lst2` which looks like `[11, 10, 9, 8, 7, 6, 5, 4, 3, 2, 1]`\n",
        "\n",
        "Your code should have only one line!"
      ]
    },
    {
      "cell_type": "markdown",
      "source": [],
      "metadata": {
        "id": "tmNadGAXmbd5"
      }
    },
    {
      "cell_type": "code",
      "execution_count": 15,
      "metadata": {
        "colab": {
          "base_uri": "https://localhost:8080/"
        },
        "outputId": "74eae5f6-f53e-4c8a-a434-6aa25b5f950b",
        "id": "hTDuaC0crWod"
      },
      "outputs": [
        {
          "output_type": "stream",
          "name": "stdout",
          "text": [
            "[11, 10, 9, 8, 7, 6, 5, 4, 3, 2, 1]\n"
          ]
        }
      ],
      "source": [
        "# Begin of your solution\n",
        "lst2=[lst1[len(lst1)-i] for i in range(1,len(lst1)+1)]\n",
        "\n",
        "# End solution\n",
        "print (lst2)"
      ]
    },
    {
      "cell_type": "markdown",
      "metadata": {
        "id": "JeTcBVi2rqLk"
      },
      "source": [
        "# Problem 4 [1 point]\n",
        "\n",
        "Using list comprehension, create list named `lst3` which include all numbers between 1 and 20 that are divisible by 3 between 1 and 21\n",
        "\n",
        "> `[3,6,9,12,15,18]`\n",
        "\n",
        "Your code should have only one line!"
      ]
    },
    {
      "cell_type": "code",
      "execution_count": 8,
      "metadata": {
        "colab": {
          "base_uri": "https://localhost:8080/"
        },
        "outputId": "c150191c-66b2-4d73-8ba2-8db75288320c",
        "id": "icnH1OBCrqLl"
      },
      "outputs": [
        {
          "output_type": "stream",
          "name": "stdout",
          "text": [
            "[[3, 6, 9, 12, 15, 18]]\n"
          ]
        }
      ],
      "source": [
        "# Begin of your solution\n",
        "lst3=[x for x in range(1, 21) if x % 3 == 0]\n",
        "\n",
        "# End solution\n",
        "print (lst3)"
      ]
    },
    {
      "cell_type": "markdown",
      "metadata": {
        "id": "ck3r76Hisfwa"
      },
      "source": [
        "# Problem 5 [2 points]\n",
        "\n",
        "In the following code, we have a function named `list_of_list_generator(n,m)` which generates a list with `n` elements and each element itself is a list that include numbers from 1 to `m`\n",
        "\n",
        "Examples:\n",
        "\n",
        ">list_of_list_generator(3,4)\n",
        "\n",
        "Output: `[[1,2,3,4],[1,2,3,4],[1,2,3,4]]`\n",
        "\n",
        ">list_of_list_generator(4,2)\n",
        "\n",
        "Output: `[[1,2],[1,2],[1,2],[1,2]]`"
      ]
    },
    {
      "cell_type": "code",
      "execution_count": 32,
      "metadata": {
        "colab": {
          "base_uri": "https://localhost:8080/"
        },
        "outputId": "16df7beb-8131-4486-9e27-fa5ca016bcc9",
        "id": "Zey9xZiBsfwb"
      },
      "outputs": [
        {
          "output_type": "stream",
          "name": "stdout",
          "text": [
            "[[1, 2, 3], [1, 2, 3], [1, 2, 3]]\n"
          ]
        }
      ],
      "source": [
        "def list_of_list_generator(n,m):\n",
        "  lst4=[[i for i in range(1,m+1)] for j in range(n)]\n",
        "  return lst4\n",
        "\n",
        "\n",
        "\n",
        "print (list_of_list_generator(3,3))"
      ]
    },
    {
      "cell_type": "markdown",
      "source": [
        "As you can see in the code above, we have a list comprehension in another list comprehension! \n",
        "\n",
        "Modify the function above and define a new function named `list_of_list_generator_modified(n)` wich generates a list with `n` elements that looks like the examples below:\n",
        "\n",
        "Examples:\n",
        "\n",
        ">list_of_list_generator(3)\n",
        "\n",
        "Output: `[[1],[1,2],[1,2,3]]`\n",
        "\n",
        ">list_of_list_generator(4)\n",
        "\n",
        "Output: `[[1],[1,2],[1,2,3],[1,2,3,4]]`\n",
        "\n",
        "\n",
        "\n"
      ],
      "metadata": {
        "id": "qnv9-qbIuORK"
      }
    },
    {
      "cell_type": "code",
      "source": [
        "# Begin of your solution23t\n",
        "def list_of_list_generator_modified(n):\n",
        "  lst5=[[i for i in range(1,n)] for j in range(n+1) ]\n",
        "  return lst5\n",
        "# End solution\n",
        "print (list_of_list_generator_modified(3))"
      ],
      "metadata": {
        "colab": {
          "base_uri": "https://localhost:8080/"
        },
        "id": "20ZuWH6esWqF",
        "outputId": "5275bc82-bc49-4657-d810-040baf095e3e"
      },
      "execution_count": 9,
      "outputs": [
        {
          "output_type": "stream",
          "name": "stdout",
          "text": [
            "[[1, 2], [1, 2], [1, 2], [1, 2]]\n"
          ]
        }
      ]
    }
  ],
  "metadata": {
    "kernelspec": {
      "display_name": "Python 3.10.7 64-bit (microsoft store)",
      "language": "python",
      "name": "python3"
    },
    "language_info": {
      "codemirror_mode": {
        "name": "ipython",
        "version": 3
      },
      "file_extension": ".py",
      "mimetype": "text/x-python",
      "name": "python",
      "nbconvert_exporter": "python",
      "pygments_lexer": "ipython3",
      "version": "3.10.7"
    },
    "orig_nbformat": 4,
    "vscode": {
      "interpreter": {
        "hash": "215aead41f9601d44b50b41e7467c6ba48ac3c6af4742fd5d359fbd8d424b935"
      }
    },
    "colab": {
      "provenance": [],
      "collapsed_sections": [],
      "toc_visible": true
    }
  },
  "nbformat": 4,
  "nbformat_minor": 0
}